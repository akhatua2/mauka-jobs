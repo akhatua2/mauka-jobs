{
 "cells": [
  {
   "cell_type": "code",
   "execution_count": 1,
   "metadata": {},
   "outputs": [],
   "source": [
    "import pandas as pd\n",
    "import numpy as np"
   ]
  },
  {
   "cell_type": "code",
   "execution_count": 2,
   "metadata": {},
   "outputs": [],
   "source": [
    "df = pd.read_csv('Data.csv')\n",
    "df.drop('Crawl Timestamp', axis=1, inplace=True)\n",
    "df.drop('Uniq Id', axis=1, inplace=True) \n",
    "\n",
    "df.dropna(how='any',inplace=True)"
   ]
  },
  {
   "cell_type": "code",
   "execution_count": 3,
   "metadata": {},
   "outputs": [],
   "source": [
    "for i in range(len(df)):\n",
    "    if (type(df.iloc[i]['Key Skills']) is str):\n",
    "        df.iloc[i]['Key Skills'] = df.iloc[i]['Key Skills'].split('|')\n",
    "    if (type(df.iloc[i]['Location']) is str):\n",
    "        locationToAdd = df.iloc[i]['Location'].split(',')\n",
    "        for j in range (len(locationToAdd)):\n",
    "            if (len(locationToAdd[j]) != 0):\n",
    "                if (locationToAdd[j][0] == ' '):\n",
    "                    locationToAdd[j] = locationToAdd[j][1:]\n",
    "            locationToAdd[j] = locationToAdd[j].capitalize()\n",
    "        df.iloc[i]['Location'] = locationToAdd\n",
    "    if (type(df.iloc[i]['Functional Area']) is str):\n",
    "        df.iloc[i]['Functional Area'] = df.iloc[i]['Functional Area'].split(',')\n",
    "    if (type(df.iloc[i]['Industry']) is str):\n",
    "        df.iloc[i]['Industry'] = df.iloc[i]['Industry'].split(',')\n",
    "    if (type(df.iloc[i]['Role Category']) is str):\n",
    "        df.iloc[i]['Role Category'] = df.iloc[i]['Role Category'].split('/') \n",
    "    if (type(df.iloc[i]['Role']) is str and len(df.iloc[i]['Role']) > 100) :\n",
    "        df.iloc[i]['Role'] = 'N/A'\n",
    "    df.iloc[i]['Role'] = df.iloc[i]['Role'].replace('/', ',')\n",
    "    if not (\"0 -\" in df.iloc[i]['Job Experience Required'] and \"10 -\" not in df.iloc[i]['Job Experience Required'] and \"20 -\" not in df.iloc[i]['Job Experience Required']):\n",
    "        df.iloc[i]['Job Experience Required'] = np.nan\n",
    "df.dropna(how='any',inplace=True)"
   ]
  },
  {
   "cell_type": "code",
   "execution_count": 4,
   "metadata": {},
   "outputs": [],
   "source": [
    "df.drop('Job Experience Required', axis=1, inplace=True) "
   ]
  },
  {
   "cell_type": "code",
   "execution_count": 5,
   "metadata": {},
   "outputs": [],
   "source": [
    "df.reset_index(drop=True, inplace=True)\n"
   ]
  },
  {
   "cell_type": "code",
   "execution_count": 6,
   "metadata": {},
   "outputs": [
    {
     "data": {
      "text/html": [
       "<div>\n",
       "<style scoped>\n",
       "    .dataframe tbody tr th:only-of-type {\n",
       "        vertical-align: middle;\n",
       "    }\n",
       "\n",
       "    .dataframe tbody tr th {\n",
       "        vertical-align: top;\n",
       "    }\n",
       "\n",
       "    .dataframe thead th {\n",
       "        text-align: right;\n",
       "    }\n",
       "</style>\n",
       "<table border=\"1\" class=\"dataframe\">\n",
       "  <thead>\n",
       "    <tr style=\"text-align: right;\">\n",
       "      <th></th>\n",
       "      <th>Job Title</th>\n",
       "      <th>Job Salary</th>\n",
       "      <th>Key Skills</th>\n",
       "      <th>Role Category</th>\n",
       "      <th>Location</th>\n",
       "      <th>Functional Area</th>\n",
       "      <th>Industry</th>\n",
       "      <th>Role</th>\n",
       "    </tr>\n",
       "  </thead>\n",
       "  <tbody>\n",
       "    <tr>\n",
       "      <th>0</th>\n",
       "      <td>Trainee Research/ Research Executive- Hi- Tec...</td>\n",
       "      <td>Not Disclosed by Recruiter</td>\n",
       "      <td>[ Computer science,  Fabrication,  Quality che...</td>\n",
       "      <td>[R&amp;D]</td>\n",
       "      <td>[Gurgaon]</td>\n",
       "      <td>[Engineering Design ,  R&amp;D]</td>\n",
       "      <td>[Recruitment,  Staffing]</td>\n",
       "      <td>R&amp;D Executive</td>\n",
       "    </tr>\n",
       "    <tr>\n",
       "      <th>1</th>\n",
       "      <td>Technical Support</td>\n",
       "      <td>2,00,000 - 4,00,000 PA.</td>\n",
       "      <td>[ Technical Support]</td>\n",
       "      <td>[Admin, Maintenance, Security, Datawarehousing]</td>\n",
       "      <td>[Mumbai]</td>\n",
       "      <td>[IT Software - Application Programming ,  Main...</td>\n",
       "      <td>[IT-Software,  Software Services]</td>\n",
       "      <td>Technical Support Engineer</td>\n",
       "    </tr>\n",
       "    <tr>\n",
       "      <th>2</th>\n",
       "      <td>Sales- Fresher-for Leading Property Consultant</td>\n",
       "      <td>2,00,000 - 3,00,000 PA.</td>\n",
       "      <td>[ channel partners,  real estate,  negotiation...</td>\n",
       "      <td>[Retail Sales]</td>\n",
       "      <td>[Bengaluru]</td>\n",
       "      <td>[Sales ,  Retail ,  Business Development]</td>\n",
       "      <td>[Real Estate,  Property]</td>\n",
       "      <td>Sales Executive,Officer</td>\n",
       "    </tr>\n",
       "    <tr>\n",
       "      <th>3</th>\n",
       "      <td>Looking For Trained Freshers in MS Dynamics C...</td>\n",
       "      <td>Not Disclosed by Recruiter</td>\n",
       "      <td>[ C#,  MS Dynamics CRM,  Microsoft Dynamics,  ...</td>\n",
       "      <td>[Programming &amp; Design]</td>\n",
       "      <td>[Hyderabad]</td>\n",
       "      <td>[IT Software - Application Programming ,  Main...</td>\n",
       "      <td>[IT-Software,  Software Services]</td>\n",
       "      <td>Software Developer</td>\n",
       "    </tr>\n",
       "    <tr>\n",
       "      <th>4</th>\n",
       "      <td>Business Development / Corporate Sales</td>\n",
       "      <td>2,50,000 - 4,50,000 PA.</td>\n",
       "      <td>[ lead generation,  business development,  cor...</td>\n",
       "      <td>[Retail Sales]</td>\n",
       "      <td>[Delhi ncr]</td>\n",
       "      <td>[Sales ,  Retail ,  Business Development]</td>\n",
       "      <td>[IT-Software,  Software Services]</td>\n",
       "      <td>Sales,Business Development Manager</td>\n",
       "    </tr>\n",
       "  </tbody>\n",
       "</table>\n",
       "</div>"
      ],
      "text/plain": [
       "                                           Job Title  \\\n",
       "0   Trainee Research/ Research Executive- Hi- Tec...   \n",
       "1                                  Technical Support   \n",
       "2     Sales- Fresher-for Leading Property Consultant   \n",
       "3   Looking For Trained Freshers in MS Dynamics C...   \n",
       "4             Business Development / Corporate Sales   \n",
       "\n",
       "                     Job Salary  \\\n",
       "0   Not Disclosed by Recruiter    \n",
       "1      2,00,000 - 4,00,000 PA.    \n",
       "2      2,00,000 - 3,00,000 PA.    \n",
       "3   Not Disclosed by Recruiter    \n",
       "4      2,50,000 - 4,50,000 PA.    \n",
       "\n",
       "                                          Key Skills  \\\n",
       "0  [ Computer science,  Fabrication,  Quality che...   \n",
       "1                               [ Technical Support]   \n",
       "2  [ channel partners,  real estate,  negotiation...   \n",
       "3  [ C#,  MS Dynamics CRM,  Microsoft Dynamics,  ...   \n",
       "4  [ lead generation,  business development,  cor...   \n",
       "\n",
       "                                     Role Category     Location  \\\n",
       "0                                            [R&D]    [Gurgaon]   \n",
       "1  [Admin, Maintenance, Security, Datawarehousing]     [Mumbai]   \n",
       "2                                   [Retail Sales]  [Bengaluru]   \n",
       "3                           [Programming & Design]  [Hyderabad]   \n",
       "4                                   [Retail Sales]  [Delhi ncr]   \n",
       "\n",
       "                                     Functional Area  \\\n",
       "0                        [Engineering Design ,  R&D]   \n",
       "1  [IT Software - Application Programming ,  Main...   \n",
       "2          [Sales ,  Retail ,  Business Development]   \n",
       "3  [IT Software - Application Programming ,  Main...   \n",
       "4          [Sales ,  Retail ,  Business Development]   \n",
       "\n",
       "                            Industry                                Role  \n",
       "0           [Recruitment,  Staffing]                       R&D Executive  \n",
       "1  [IT-Software,  Software Services]          Technical Support Engineer  \n",
       "2           [Real Estate,  Property]             Sales Executive,Officer  \n",
       "3  [IT-Software,  Software Services]                  Software Developer  \n",
       "4  [IT-Software,  Software Services]  Sales,Business Development Manager  "
      ]
     },
     "execution_count": 6,
     "metadata": {},
     "output_type": "execute_result"
    }
   ],
   "source": [
    "df.head(5)"
   ]
  },
  {
   "cell_type": "code",
   "execution_count": 7,
   "metadata": {},
   "outputs": [],
   "source": [
    "cities = []\n",
    "for i in range (len(df)):\n",
    "    for j in range (len(df.iloc[i]['Location'])):\n",
    "        cities.append(df.iloc[i]['Location'][j])\n",
    "cities.sort()\n",
    "cities = list( dict.fromkeys(cities) )"
   ]
  },
  {
   "cell_type": "code",
   "execution_count": 8,
   "metadata": {},
   "outputs": [
    {
     "data": {
      "text/plain": [
       "442"
      ]
     },
     "execution_count": 8,
     "metadata": {},
     "output_type": "execute_result"
    }
   ],
   "source": [
    "len(cities)"
   ]
  },
  {
   "cell_type": "code",
   "execution_count": null,
   "metadata": {},
   "outputs": [],
   "source": []
  },
  {
   "cell_type": "code",
   "execution_count": 9,
   "metadata": {},
   "outputs": [],
   "source": [
    "jobsInCity = []\n",
    "city = \"Noida\"\n",
    "for i in range (len(df)):\n",
    "    if city in df.iloc[i]['Location']:\n",
    "        jobsInCity.append(df.iloc[i]) \n",
    "#jobsInCity is a list of all the jobs in the city"
   ]
  },
  {
   "cell_type": "code",
   "execution_count": 10,
   "metadata": {},
   "outputs": [],
   "source": [
    "rolesInCity = {}\n",
    "for i in range (len(jobsInCity)):\n",
    "    if (jobsInCity[i]['Role'] in rolesInCity):\n",
    "        rolesInCity[jobsInCity[i]['Role']] += 1\n",
    "    else:\n",
    "        rolesInCity[jobsInCity[i]['Role']] = 1\n",
    "#rolesInCity is a list of all the roles in the chosen city"
   ]
  },
  {
   "cell_type": "code",
   "execution_count": 11,
   "metadata": {},
   "outputs": [],
   "source": [
    "role = \"Software Developer\"\n",
    "jobs = []\n",
    "for i in range (len(jobsInCity)):\n",
    "    if role in jobsInCity[i]['Role']:\n",
    "        jobs.append(jobsInCity[i])\n",
    "# jobs is all the jobs of the chosen role in the chosen city"
   ]
  },
  {
   "cell_type": "code",
   "execution_count": 12,
   "metadata": {},
   "outputs": [
    {
     "data": {
      "text/plain": [
       "22"
      ]
     },
     "execution_count": 12,
     "metadata": {},
     "output_type": "execute_result"
    }
   ],
   "source": [
    "len(jobs)"
   ]
  },
  {
   "cell_type": "code",
   "execution_count": null,
   "metadata": {},
   "outputs": [],
   "source": []
  },
  {
   "cell_type": "code",
   "execution_count": null,
   "metadata": {},
   "outputs": [],
   "source": []
  },
  {
   "cell_type": "code",
   "execution_count": 13,
   "metadata": {},
   "outputs": [
    {
     "data": {
      "text/html": [
       "<div>\n",
       "<style scoped>\n",
       "    .dataframe tbody tr th:only-of-type {\n",
       "        vertical-align: middle;\n",
       "    }\n",
       "\n",
       "    .dataframe tbody tr th {\n",
       "        vertical-align: top;\n",
       "    }\n",
       "\n",
       "    .dataframe thead th {\n",
       "        text-align: right;\n",
       "    }\n",
       "</style>\n",
       "<table border=\"1\" class=\"dataframe\">\n",
       "  <thead>\n",
       "    <tr style=\"text-align: right;\">\n",
       "      <th></th>\n",
       "      <th>Job Title</th>\n",
       "      <th>Job Salary</th>\n",
       "      <th>Key Skills</th>\n",
       "      <th>Role Category</th>\n",
       "      <th>Location</th>\n",
       "      <th>Functional Area</th>\n",
       "      <th>Industry</th>\n",
       "      <th>Role</th>\n",
       "    </tr>\n",
       "  </thead>\n",
       "  <tbody>\n",
       "    <tr>\n",
       "      <th>0</th>\n",
       "      <td>Trainee Research/ Research Executive- Hi- Tec...</td>\n",
       "      <td>Not Disclosed by Recruiter</td>\n",
       "      <td>[ Computer science,  Fabrication,  Quality che...</td>\n",
       "      <td>[R&amp;D]</td>\n",
       "      <td>[Gurgaon]</td>\n",
       "      <td>[Engineering Design ,  R&amp;D]</td>\n",
       "      <td>[Recruitment,  Staffing]</td>\n",
       "      <td>R&amp;D Executive</td>\n",
       "    </tr>\n",
       "    <tr>\n",
       "      <th>1</th>\n",
       "      <td>Technical Support</td>\n",
       "      <td>2,00,000 - 4,00,000 PA.</td>\n",
       "      <td>[ Technical Support]</td>\n",
       "      <td>[Admin, Maintenance, Security, Datawarehousing]</td>\n",
       "      <td>[Mumbai]</td>\n",
       "      <td>[IT Software - Application Programming ,  Main...</td>\n",
       "      <td>[IT-Software,  Software Services]</td>\n",
       "      <td>Technical Support Engineer</td>\n",
       "    </tr>\n",
       "    <tr>\n",
       "      <th>2</th>\n",
       "      <td>Sales- Fresher-for Leading Property Consultant</td>\n",
       "      <td>2,00,000 - 3,00,000 PA.</td>\n",
       "      <td>[ channel partners,  real estate,  negotiation...</td>\n",
       "      <td>[Retail Sales]</td>\n",
       "      <td>[Bengaluru]</td>\n",
       "      <td>[Sales ,  Retail ,  Business Development]</td>\n",
       "      <td>[Real Estate,  Property]</td>\n",
       "      <td>Sales Executive,Officer</td>\n",
       "    </tr>\n",
       "    <tr>\n",
       "      <th>3</th>\n",
       "      <td>Looking For Trained Freshers in MS Dynamics C...</td>\n",
       "      <td>Not Disclosed by Recruiter</td>\n",
       "      <td>[ C#,  MS Dynamics CRM,  Microsoft Dynamics,  ...</td>\n",
       "      <td>[Programming &amp; Design]</td>\n",
       "      <td>[Hyderabad]</td>\n",
       "      <td>[IT Software - Application Programming ,  Main...</td>\n",
       "      <td>[IT-Software,  Software Services]</td>\n",
       "      <td>Software Developer</td>\n",
       "    </tr>\n",
       "    <tr>\n",
       "      <th>4</th>\n",
       "      <td>Business Development / Corporate Sales</td>\n",
       "      <td>2,50,000 - 4,50,000 PA.</td>\n",
       "      <td>[ lead generation,  business development,  cor...</td>\n",
       "      <td>[Retail Sales]</td>\n",
       "      <td>[Delhi ncr]</td>\n",
       "      <td>[Sales ,  Retail ,  Business Development]</td>\n",
       "      <td>[IT-Software,  Software Services]</td>\n",
       "      <td>Sales,Business Development Manager</td>\n",
       "    </tr>\n",
       "  </tbody>\n",
       "</table>\n",
       "</div>"
      ],
      "text/plain": [
       "                                           Job Title  \\\n",
       "0   Trainee Research/ Research Executive- Hi- Tec...   \n",
       "1                                  Technical Support   \n",
       "2     Sales- Fresher-for Leading Property Consultant   \n",
       "3   Looking For Trained Freshers in MS Dynamics C...   \n",
       "4             Business Development / Corporate Sales   \n",
       "\n",
       "                     Job Salary  \\\n",
       "0   Not Disclosed by Recruiter    \n",
       "1      2,00,000 - 4,00,000 PA.    \n",
       "2      2,00,000 - 3,00,000 PA.    \n",
       "3   Not Disclosed by Recruiter    \n",
       "4      2,50,000 - 4,50,000 PA.    \n",
       "\n",
       "                                          Key Skills  \\\n",
       "0  [ Computer science,  Fabrication,  Quality che...   \n",
       "1                               [ Technical Support]   \n",
       "2  [ channel partners,  real estate,  negotiation...   \n",
       "3  [ C#,  MS Dynamics CRM,  Microsoft Dynamics,  ...   \n",
       "4  [ lead generation,  business development,  cor...   \n",
       "\n",
       "                                     Role Category     Location  \\\n",
       "0                                            [R&D]    [Gurgaon]   \n",
       "1  [Admin, Maintenance, Security, Datawarehousing]     [Mumbai]   \n",
       "2                                   [Retail Sales]  [Bengaluru]   \n",
       "3                           [Programming & Design]  [Hyderabad]   \n",
       "4                                   [Retail Sales]  [Delhi ncr]   \n",
       "\n",
       "                                     Functional Area  \\\n",
       "0                        [Engineering Design ,  R&D]   \n",
       "1  [IT Software - Application Programming ,  Main...   \n",
       "2          [Sales ,  Retail ,  Business Development]   \n",
       "3  [IT Software - Application Programming ,  Main...   \n",
       "4          [Sales ,  Retail ,  Business Development]   \n",
       "\n",
       "                            Industry                                Role  \n",
       "0           [Recruitment,  Staffing]                       R&D Executive  \n",
       "1  [IT-Software,  Software Services]          Technical Support Engineer  \n",
       "2           [Real Estate,  Property]             Sales Executive,Officer  \n",
       "3  [IT-Software,  Software Services]                  Software Developer  \n",
       "4  [IT-Software,  Software Services]  Sales,Business Development Manager  "
      ]
     },
     "execution_count": 13,
     "metadata": {},
     "output_type": "execute_result"
    }
   ],
   "source": [
    "df.head(5)"
   ]
  },
  {
   "cell_type": "markdown",
   "metadata": {},
   "source": [
    "# Cleaning Salary"
   ]
  },
  {
   "cell_type": "code",
   "execution_count": 14,
   "metadata": {},
   "outputs": [],
   "source": [
    "updated = pd.read_csv('FilteredData.csv')"
   ]
  },
  {
   "cell_type": "code",
   "execution_count": 15,
   "metadata": {},
   "outputs": [],
   "source": [
    "def hasNumbers(inputString):\n",
    "    return any(char.isdigit() for char in inputString)\n",
    "\n",
    "for i in range (len(df)):\n",
    "    salary = df.iloc[i]['Job Salary']\n",
    "    salary = salary.replace('INR ','')\n",
    "    salary = salary.replace(',','')\n",
    "    salary = salary.replace(' PA.','')\n",
    "    salary = salary.replace('.','')\n",
    "    salary = salary.replace(' ','')\n",
    "    salary = ''.join(filter(lambda x: x.isdigit() or x == '-', salary))\n",
    "    currentSalaries = []\n",
    "    count = 0\n",
    "    if hasNumbers(salary) and '000' in salary:\n",
    "        salary = salary.split('-')\n",
    "        for j in range (len(salary)):\n",
    "            if len(salary[j]) > 2:\n",
    "                currentSalaries.append(salary[j])\n",
    "                count += int(salary[j])\n",
    "        salary = count / len(currentSalaries)\n",
    "    else:\n",
    "        salary = 0\n",
    "    df.iloc[i]['Job Salary'] = salary"
   ]
  },
  {
   "cell_type": "code",
   "execution_count": null,
   "metadata": {},
   "outputs": [],
   "source": []
  },
  {
   "cell_type": "code",
   "execution_count": 16,
   "metadata": {},
   "outputs": [],
   "source": [
    "df.to_csv('FilteredData.csv')"
   ]
  },
  {
   "cell_type": "code",
   "execution_count": null,
   "metadata": {},
   "outputs": [],
   "source": []
  }
 ],
 "metadata": {
  "kernelspec": {
   "display_name": "Python 3",
   "language": "python",
   "name": "python3"
  },
  "language_info": {
   "codemirror_mode": {
    "name": "ipython",
    "version": 3
   },
   "file_extension": ".py",
   "mimetype": "text/x-python",
   "name": "python",
   "nbconvert_exporter": "python",
   "pygments_lexer": "ipython3",
   "version": "3.8.3"
  }
 },
 "nbformat": 4,
 "nbformat_minor": 4
}
